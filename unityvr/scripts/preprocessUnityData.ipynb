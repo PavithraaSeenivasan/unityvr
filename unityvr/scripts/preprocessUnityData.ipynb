{
 "cells": [
  {
   "cell_type": "markdown",
   "metadata": {},
   "source": [
    "## Process all files in a folder"
   ]
  },
  {
   "cell_type": "code",
   "execution_count": 1,
   "metadata": {},
   "outputs": [],
   "source": [
    "import numpy as np\n",
    "import matplotlib.pyplot as plt\n",
    "from os import listdir\n",
    "from os.path import isfile, join"
   ]
  },
  {
   "cell_type": "code",
   "execution_count": 2,
   "metadata": {},
   "outputs": [],
   "source": [
    "# if you want to import files from the parent directory, please add the directory to the path:\n",
    "#import sys, os, inspect\n",
    "#currentdir = os.path.dirname(os.path.abspath(inspect.getfile(inspect.currentframe())))\n",
    "#parentdir = os.path.dirname(currentdir)\n",
    "#sys.path.insert(0, parentdir)\n",
    "#print(sys.path)\n",
    "from unityvr.preproc import logproc as lp\n",
    "from unityvr.viz import viz"
   ]
  },
  {
   "cell_type": "markdown",
   "metadata": {},
   "source": [
    "#### Select raw data"
   ]
  },
  {
   "cell_type": "code",
   "execution_count": 7,
   "metadata": {},
   "outputs": [
    {
     "name": "stdout",
     "output_type": "stream",
     "text": [
      "/Volumes/reiserlab/Pavi/Caliberation/Mi1/raw/f01 []\n"
     ]
    }
   ],
   "source": [
    "root = '/Volumes/reiserlab/Pavi/Caliberation/Mi1/'\n",
    "flies = ['f01']\n",
    "datPath = 'Acq5/' #'gradientMorphingA2/SS96_x_7f/EB/f12'# \n",
    "#f03, f04\n",
    "for fly in flies:\n",
    "    dirName = root + 'raw/' + fly + datPath\n",
    "    preprocDir = root + 'preproc/' + fly + datPath\n",
    "\n",
    "    fileNames = [f for f in listdir(dirName) if isfile(join(dirName, f)) and '.json' in f]\n",
    "    print(dirName, fileNames)\n",
    "\n",
    "    for fileName in fileNames:\n",
    "        uvrTrial = lp.constructUnityVRexperiment(dirName,fileName)\n",
    "        uvrTrial.printMetadata()\n",
    "\n",
    "        savepath = uvrTrial.saveData(preprocDir, (uvrTrial.metadata['expid']).split('_')[-1] + '/' + uvrTrial.metadata['trial'])\n",
    "        print(savepath)"
   ]
  },
  {
   "cell_type": "markdown",
   "metadata": {},
   "source": [
    "#### Generate data object and save file"
   ]
  },
  {
   "cell_type": "code",
   "execution_count": 11,
   "metadata": {},
   "outputs": [
    {
     "name": "stdout",
     "output_type": "stream",
     "text": [
      "f01\n",
      "[]\n",
      "j\n"
     ]
    }
   ],
   "source": [
    "for fly in flies:\n",
    "    print(fly)\n",
    "    dirName = root + 'raw/' + fly\n",
    "    preprocDir = root + 'preproc/' + fly\n",
    "\n",
    "    fileNames = [f for f in listdir(dirName) if isfile(join(dirName, f)) and '.json' in f]\n",
    "    print(fileNames)\n",
    "    print('j')\n",
    "\n",
    "    # for fileName in fileNames:\n",
    "    #     uvrTrial = lp.constructUnityVRexperiment(dirName,fileName)\n",
    "    #     uvrTrial.printMetadata()\n",
    "\n",
    "    #     savepath = uvrTrial.saveData(preprocDir, (uvrTrial.metadata['expid']).split('_')[-1] + '/' + uvrTrial.metadata['trial'])\n",
    "    #     print(savepath)"
   ]
  },
  {
   "cell_type": "code",
   "execution_count": null,
   "metadata": {},
   "outputs": [],
   "source": []
  }
 ],
 "metadata": {
  "kernelspec": {
   "display_name": "unityvr",
   "language": "python",
   "name": "unityvr"
  },
  "language_info": {
   "codemirror_mode": {
    "name": "ipython",
    "version": 3
   },
   "file_extension": ".py",
   "mimetype": "text/x-python",
   "name": "python",
   "nbconvert_exporter": "python",
   "pygments_lexer": "ipython3",
   "version": "3.8.19"
  }
 },
 "nbformat": 4,
 "nbformat_minor": 4
}
