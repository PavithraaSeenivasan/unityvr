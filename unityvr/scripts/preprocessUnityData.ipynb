{
 "cells": [
  {
   "cell_type": "markdown",
   "metadata": {},
   "source": [
    "## Process all files in a folder"
   ]
  },
  {
   "cell_type": "code",
   "execution_count": 1,
   "metadata": {},
   "outputs": [],
   "source": [
    "import numpy as np\n",
    "import matplotlib.pyplot as plt\n",
    "from os import listdir\n",
    "from os.path import isfile, join"
   ]
  },
  {
   "cell_type": "code",
   "execution_count": 2,
   "metadata": {},
   "outputs": [],
   "source": [
    "# if you want to import files from the parent directory, please add the directory to the path:\n",
    "#import sys, os, inspect\n",
    "#currentdir = os.path.dirname(os.path.abspath(inspect.getfile(inspect.currentframe())))\n",
    "#parentdir = os.path.dirname(currentdir)\n",
    "#sys.path.insert(0, parentdir)\n",
    "#print(sys.path)\n",
    "from unityvr.preproc import logproc as lp\n",
    "from unityvr.viz import viz"
   ]
  },
  {
   "cell_type": "markdown",
   "metadata": {},
   "source": [
    "#### Select raw data"
   ]
  },
  {
   "cell_type": "code",
   "execution_count": 3,
   "metadata": {},
   "outputs": [
    {
     "name": "stdout",
     "output_type": "stream",
     "text": [
      "/groups/jayaraman/jayaramanlab/Hannah/Projects/FlyVR2P/Data/raw/OLmapRFPred/SS00238_x_SP-I-7f/EB-BU/f06 ['Log_2024-07-02_15-42-50_SS00238-x-SP-I-7f_f06_EB-BU_pOLmapRF2-10-20-30_t01.json']\n",
      "/groups/jayaraman/jayaramanlab/Hannah/Projects/FlyVR2P/Data/raw/OLmapRFPred/SS00238_x_SP-I-7f/EB-BU/f05 ['Log_2024-07-01_16-52-44_SS00238-x-SP-I-7f_f05_EB-BU_pOLmapRF2-10-20-30_t01.json']\n",
      "/groups/jayaraman/jayaramanlab/Hannah/Projects/FlyVR2P/Data/raw/OLmapRFPred/SS00238_x_SP-I-7f/EB-BU/f04 ['Log_2024-07-01_12-01-58_SS00238-x-SP-I-7f_f04_EB-BU_pOLmapRF2-10-20-30_t01.json']\n",
      "/groups/jayaraman/jayaramanlab/Hannah/Projects/FlyVR2P/Data/raw/OLmapRFPred/SS00238_x_SP-I-7f/EB-BU/f03 ['Log_2024-06-27_16-01-21_SS00238-x-SP-I-7f_f03_EB-BU_pOLmapRF2-10-20-30_t01.json']\n",
      "/groups/jayaraman/jayaramanlab/Hannah/Projects/FlyVR2P/Data/raw/OLmapRFPred/SS00238_x_SP-I-7f/EB-BU/f02 ['Log_2024-06-27_13-26-08_SS00238-x-SP-I-7f_f02_EB-BU_pOLmapRF2-10-20-30_t01.json']\n",
      "/groups/jayaraman/jayaramanlab/Hannah/Projects/FlyVR2P/Data/raw/OLmapRFPred/SS00238_x_SP-I-7f/EB-BU/f01 ['Log_2024-06-26_15-02-50_SS00238-x-SP-I-7f_f01_EB-BU_pOLmapRF2-10-20-30_t01.json']\n"
     ]
    }
   ],
   "source": [
    "root = '/groups/jayaraman/jayaramanlab/Hannah/Projects/FlyVR2P/Data/'#'../../data_unityvr/'#\n",
    "flies = ['f06','f05','f04','f03','f02','f01']\n",
    "datPath = 'OLmapRFPred/SS00238_x_SP-I-7f/EB-BU/' #'gradientMorphingA2/SS96_x_7f/EB/f12'# \n",
    "#f03, f04\n",
    "for fly in flies:\n",
    "    dirName = root + 'raw/' + datPath + fly\n",
    "    condition = datPath.split('/')[3]\n",
    "    preprocDir = root + 'preproc/'+ datPath + fly\n",
    "\n",
    "    fileNames = [f for f in listdir(dirName) if isfile(join(dirName, f)) and '.json' in f]\n",
    "    print(dirName, fileNames)\n",
    "\n",
    "    #for fileName in fileNames:\n",
    "        #uvrTrial = lp.constructUnityVRexperiment(dirName,fileName)\n",
    "        #uvrTrial.printMetadata()\n",
    "\n",
    "        #savepath = uvrTrial.saveData(preprocDir, (uvrTrial.metadata['expid']).split('_')[-1] + '/' + uvrTrial.metadata['trial'])\n",
    "        #print(savepath)"
   ]
  },
  {
   "cell_type": "markdown",
   "metadata": {},
   "source": [
    "#### Generate data object and save file"
   ]
  },
  {
   "cell_type": "code",
   "execution_count": 4,
   "metadata": {},
   "outputs": [
    {
     "name": "stdout",
     "output_type": "stream",
     "text": [
      "['Log_2024-07-02_15-42-50_SS00238-x-SP-I-7f_f06_EB-BU_pOLmapRF2-10-20-30_t01.json']\n",
      "correcting for Unity angle convention.\n",
      "Metadata:\n",
      "\n",
      "expid  :  SS00238-x-SP-I-7f_pOLmapRF2-10-20-30\n",
      "experiment  :  holder V3, bright spot 10d/s, 20d/s, 30d/s, 10 elv, left/right 2x, 144 Hz frame rate, collected by Shivam\n",
      "genotype  :  SS00238-x-SP-I-7f\n",
      "sex  :  f\n",
      "flyid  :  f06\n",
      "trial  :  trial01\n",
      "date  :  2024-07-02\n",
      "time  :  15-42-50\n",
      "ballRad  :  0.04699999839067459\n",
      "setFrameRate  :  144\n",
      "notes  :  EB-BU imaging\n",
      "angle_convention  :  right-handed\n",
      "/groups/jayaraman/jayaramanlab/Hannah/Projects/FlyVR2P/Data/preproc/OLmapRFPred/SS00238_x_SP-I-7f/EB-BU/f06/pOLmapRF2-10-20-30/trial01/uvr\n",
      "['Log_2024-07-01_16-52-44_SS00238-x-SP-I-7f_f05_EB-BU_pOLmapRF2-10-20-30_t01.json']\n",
      "correcting for Unity angle convention.\n",
      "Metadata:\n",
      "\n",
      "expid  :  SS00238-x-SP-I-7f_pOLmapRF2-10-20-30\n",
      "experiment  :  holder V3, bright spot 10d/s, 20d/s, 30d/s, 10 elv, left/right 2x, 144 Hz frame rate, collected by Shivam\n",
      "genotype  :  SS00238-x-SP-I-7f\n",
      "sex  :  f\n",
      "flyid  :  f05\n",
      "trial  :  trial01\n",
      "date  :  2024-07-01\n",
      "time  :  16-52-44\n",
      "ballRad  :  0.04699999839067459\n",
      "setFrameRate  :  144\n",
      "notes  :  EB-BU imaging\n",
      "angle_convention  :  right-handed\n",
      "/groups/jayaraman/jayaramanlab/Hannah/Projects/FlyVR2P/Data/preproc/OLmapRFPred/SS00238_x_SP-I-7f/EB-BU/f05/pOLmapRF2-10-20-30/trial01/uvr\n",
      "['Log_2024-07-01_12-01-58_SS00238-x-SP-I-7f_f04_EB-BU_pOLmapRF2-10-20-30_t01.json']\n",
      "correcting for Unity angle convention.\n",
      "Metadata:\n",
      "\n",
      "expid  :  SS00238-x-SP-I-7f_pOLmapRF2-10-20-30\n",
      "experiment  :  holder V3, bright spot 10d/s, 20d/s, 30d/s, 10 elv, left/right 2x, 144 Hz frame rate, collected by Shivam\n",
      "genotype  :  SS00238-x-SP-I-7f\n",
      "sex  :  f\n",
      "flyid  :  f04\n",
      "trial  :  trial01\n",
      "date  :  2024-07-01\n",
      "time  :  12-01-58\n",
      "ballRad  :  0.04699999839067459\n",
      "setFrameRate  :  144\n",
      "notes  :  EB-BU imaging\n",
      "angle_convention  :  right-handed\n",
      "/groups/jayaraman/jayaramanlab/Hannah/Projects/FlyVR2P/Data/preproc/OLmapRFPred/SS00238_x_SP-I-7f/EB-BU/f04/pOLmapRF2-10-20-30/trial01/uvr\n",
      "['Log_2024-06-27_16-01-21_SS00238-x-SP-I-7f_f03_EB-BU_pOLmapRF2-10-20-30_t01.json']\n",
      "correcting for Unity angle convention.\n",
      "Metadata:\n",
      "\n",
      "expid  :  SS00238-x-SP-I-7f_pOLmapRF2-10-20-30\n",
      "experiment  :  holder V3, bright spot 10d/s, 20d/s, 30d/s, 10 elv, left/right 2x, 144 Hz frame rate, collected by Shivam\n",
      "genotype  :  SS00238-x-SP-I-7f\n",
      "sex  :  f\n",
      "flyid  :  f03\n",
      "trial  :  trial01\n",
      "date  :  2024-06-27\n",
      "time  :  16-01-21\n",
      "ballRad  :  0.04699999839067459\n",
      "setFrameRate  :  144\n",
      "notes  :  EB-BU imaging\n",
      "angle_convention  :  right-handed\n",
      "/groups/jayaraman/jayaramanlab/Hannah/Projects/FlyVR2P/Data/preproc/OLmapRFPred/SS00238_x_SP-I-7f/EB-BU/f03/pOLmapRF2-10-20-30/trial01/uvr\n",
      "['Log_2024-06-27_13-26-08_SS00238-x-SP-I-7f_f02_EB-BU_pOLmapRF2-10-20-30_t01.json']\n",
      "correcting for Unity angle convention.\n",
      "Metadata:\n",
      "\n",
      "expid  :  SS00238-x-SP-I-7f_pOLmapRF2-10-20-30\n",
      "experiment  :  holder V3, bright spot 10d/s, 20d/s, 30d/s, 10 elv, left/right 2x, 144 Hz frame rate, collected by Shivam\n",
      "genotype  :  SS00238-x-SP-I-7f\n",
      "sex  :  f\n",
      "flyid  :  f02\n",
      "trial  :  trial01\n",
      "date  :  2024-06-27\n",
      "time  :  13-26-08\n",
      "ballRad  :  0.04699999839067459\n",
      "setFrameRate  :  144\n",
      "notes  :  EB-BU imaging\n",
      "angle_convention  :  right-handed\n",
      "/groups/jayaraman/jayaramanlab/Hannah/Projects/FlyVR2P/Data/preproc/OLmapRFPred/SS00238_x_SP-I-7f/EB-BU/f02/pOLmapRF2-10-20-30/trial01/uvr\n",
      "['Log_2024-06-26_15-02-50_SS00238-x-SP-I-7f_f01_EB-BU_pOLmapRF2-10-20-30_t01.json']\n",
      "correcting for Unity angle convention.\n"
     ]
    }
   ],
   "source": [
    "for fly in flies:\n",
    "    dirName = root + 'raw/' + datPath + fly\n",
    "    condition = datPath.split('/')[3]\n",
    "    preprocDir = root + 'preproc/'+ datPath + fly\n",
    "\n",
    "    fileNames = [f for f in listdir(dirName) if isfile(join(dirName, f)) and '.json' in f]\n",
    "    print(fileNames)\n",
    "\n",
    "    for fileName in fileNames:\n",
    "        uvrTrial = lp.constructUnityVRexperiment(dirName,fileName)\n",
    "        uvrTrial.printMetadata()\n",
    "\n",
    "        savepath = uvrTrial.saveData(preprocDir, (uvrTrial.metadata['expid']).split('_')[-1] + '/' + uvrTrial.metadata['trial'])\n",
    "        print(savepath)"
   ]
  },
  {
   "cell_type": "code",
   "execution_count": null,
   "metadata": {},
   "outputs": [],
   "source": []
  }
 ],
 "metadata": {
  "kernelspec": {
   "display_name": "unityvr",
   "language": "python",
   "name": "unityvr"
  },
  "language_info": {
   "codemirror_mode": {
    "name": "ipython",
    "version": 3
   },
   "file_extension": ".py",
   "mimetype": "text/x-python",
   "name": "python",
   "nbconvert_exporter": "python",
   "pygments_lexer": "ipython3",
   "version": "3.8.13"
  }
 },
 "nbformat": 4,
 "nbformat_minor": 4
}
