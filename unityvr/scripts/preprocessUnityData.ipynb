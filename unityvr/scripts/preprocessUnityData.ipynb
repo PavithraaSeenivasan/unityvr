{
 "cells": [
  {
   "cell_type": "markdown",
   "metadata": {},
   "source": [
    "## Process all files in a folder"
   ]
  },
  {
   "cell_type": "code",
   "execution_count": 1,
   "metadata": {},
   "outputs": [],
   "source": [
    "import numpy as np\n",
    "import matplotlib.pyplot as plt\n",
    "from os import listdir\n",
    "from os.path import isfile, join"
   ]
  },
  {
   "cell_type": "code",
   "execution_count": 2,
   "metadata": {},
   "outputs": [],
   "source": [
    "# if you want to import files from the parent directory, please add the directory to the path:\n",
    "#import sys, os, inspect\n",
    "#currentdir = os.path.dirname(os.path.abspath(inspect.getfile(inspect.currentframe())))\n",
    "#parentdir = os.path.dirname(currentdir)\n",
    "#sys.path.insert(0, parentdir)\n",
    "#print(sys.path)\n",
    "from unityvr.preproc import logproc as lp\n",
    "from unityvr.viz import viz"
   ]
  },
  {
   "cell_type": "markdown",
   "metadata": {},
   "source": [
    "#### Select raw data"
   ]
  },
  {
   "cell_type": "code",
   "execution_count": 3,
   "metadata": {},
   "outputs": [
    {
     "name": "stdout",
     "output_type": "stream",
     "text": [
      "/Volumes/reiserlab/Pavi/Caliberation/Mi1/raw/f01/Acq5/ ['Log_2024-07-17_18-57-28.json']\n",
      "correcting for Unity angle convention.\n",
      "No fictrac signal was recorded.\n",
      "Metadata:\n",
      "\n",
      "expid  :  testExp\n",
      "experiment  :  test experiment\n",
      "genotype  :  testGenotype\n",
      "sex  :  NA\n",
      "flyid  :  NA\n",
      "trial  :  trial8-57-28\n",
      "date  :  2024-07-17\n",
      "time  :  18-57-28\n",
      "ballRad  :  0.4699999988079071\n",
      "setFrameRate  :  120\n",
      "notes  :  NA\n",
      "angle_convention  :  right-handed\n"
     ]
    },
    {
     "ename": "TypeError",
     "evalue": "saveData() missing 1 required positional argument: 'saveName'",
     "output_type": "error",
     "traceback": [
      "\u001b[0;31m---------------------------------------------------------------------------\u001b[0m",
      "\u001b[0;31mTypeError\u001b[0m                                 Traceback (most recent call last)",
      "Cell \u001b[0;32mIn[3], line 16\u001b[0m\n\u001b[1;32m     13\u001b[0m uvrTrial \u001b[39m=\u001b[39m lp\u001b[39m.\u001b[39mconstructUnityVRexperiment(dirName,fileName)\n\u001b[1;32m     14\u001b[0m uvrTrial\u001b[39m.\u001b[39mprintMetadata()\n\u001b[0;32m---> 16\u001b[0m savepath \u001b[39m=\u001b[39m uvrTrial\u001b[39m.\u001b[39;49msaveData(preprocDir)\n\u001b[1;32m     17\u001b[0m \u001b[39mprint\u001b[39m(savepath)\n",
      "\u001b[0;31mTypeError\u001b[0m: saveData() missing 1 required positional argument: 'saveName'"
     ]
    }
   ],
   "source": [
    "root = '/Volumes/reiserlab/Pavi/Caliberation/Mi1/'\n",
    "flies = ['f01/']\n",
    "datPath = 'Acq5/' #'gradientMorphingA2/SS96_x_7f/EB/f12'# \n",
    "#f03, f04\n",
    "for fly in flies:\n",
    "    dirName = root + 'raw/' + fly + datPath\n",
    "    preprocDir = root + 'preproc/' + fly + datPath\n",
    "\n",
    "    fileNames = [f for f in listdir(dirName) if isfile(join(dirName, f)) and '.json' in f]\n",
    "    print(dirName, fileNames)\n",
    "\n",
    "    for fileName in fileNames:\n",
    "        uvrTrial = lp.constructUnityVRexperiment(dirName,fileName)\n",
    "        uvrTrial.printMetadata()\n",
    "\n",
    "        savepath = uvrTrial.saveData(preprocDir,'uvr')\n",
    "        print(savepath)"
   ]
  },
  {
   "cell_type": "markdown",
   "metadata": {},
   "source": [
    "#### Generate data object and save file"
   ]
  },
  {
   "cell_type": "code",
   "execution_count": null,
   "metadata": {},
   "outputs": [],
   "source": [
    "for fly in flies:\n",
    "    print(fly)\n",
    "    dirName = root + 'raw/' + fly\n",
    "    preprocDir = root + 'preproc/' + fly\n",
    "\n",
    "    fileNames = [f for f in listdir(dirName) if isfile(join(dirName, f)) and '.json' in f]\n",
    "    print(fileNames)\n",
    "\n",
    "    # for fileName in fileNames:\n",
    "    #     uvrTrial = lp.constructUnityVRexperiment(dirName,fileName)\n",
    "    #     uvrTrial.printMetadata()\n",
    "\n",
    "    #     savepath = uvrTrial.saveData(preprocDir, (uvrTrial.metadata['expid']).split('_')[-1] + '/' + uvrTrial.metadata['trial'])\n",
    "    #     print(savepath)"
   ]
  },
  {
   "cell_type": "code",
   "execution_count": null,
   "metadata": {},
   "outputs": [],
   "source": []
  }
 ],
 "metadata": {
  "kernelspec": {
   "display_name": "unityvr",
   "language": "python",
   "name": "unityvr"
  },
  "language_info": {
   "codemirror_mode": {
    "name": "ipython",
    "version": 3
   },
   "file_extension": ".py",
   "mimetype": "text/x-python",
   "name": "python",
   "nbconvert_exporter": "python",
   "pygments_lexer": "ipython3",
   "version": "3.8.19"
  }
 },
 "nbformat": 4,
 "nbformat_minor": 4
}
