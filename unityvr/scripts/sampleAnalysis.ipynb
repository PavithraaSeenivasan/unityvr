{
 "cells": [
  {
   "cell_type": "markdown",
   "id": "01fc9a90",
   "metadata": {},
   "source": [
    "# How to use functions in unityvr.analysis?"
   ]
  },
  {
   "cell_type": "code",
   "execution_count": 1,
   "id": "c400a7b4",
   "metadata": {},
   "outputs": [],
   "source": [
    "import numpy as np\n",
    "import pandas as pd\n",
    "import scipy as sp\n",
    "import scipy.signal\n",
    "from scipy.stats import vonmises, skew, kurtosis\n",
    "import json\n",
    "import matplotlib.pyplot as plt\n",
    "import matplotlib.cm as cm\n",
    "import seaborn as sns\n",
    "\n",
    "from unityvr.preproc import logproc as lp\n",
    "from unityvr.viz import viz\n",
    "from unityvr.analysis import posAnalysis, shapeAnalysis, fitting, utils"
   ]
  },
  {
   "cell_type": "markdown",
   "id": "3007a0d6",
   "metadata": {},
   "source": [
    "## Constructing unityvr data object from log file"
   ]
  },
  {
   "cell_type": "markdown",
   "id": "a3d78e92",
   "metadata": {},
   "source": [
    "Unity logs the experiment in a `.json` file (example provided in the sample folder). If the experiment is being done along with 2p imaging using ScanImage, refer to sample2pAnalysis.ipynb for alignment. There are two ways to close the loop in unity with fictrac: \n",
    "- `FictracSubject.cs`: relies on integrating rotation values supplied by fictrac to derive the animal's heading in unity\n",
    "- `FictracSubjectIntegrated.cs`: while the other relies on using the integrated heading values from fictrac itself\n",
    "\n",
    "Refer to [janelia-unity-toolkit](https://github.com/JaneliaSciComp/janelia-unity-toolkit/tree/master/org.janelia.collision-handling) for this. "
   ]
  },
  {
   "cell_type": "code",
   "execution_count": 3,
   "id": "7bd38ca9",
   "metadata": {},
   "outputs": [],
   "source": [
    "dirName= '/Users/seenivasanp/Desktop/Research/HanahMarie/July13/T4T5/HM_grating_4'\n",
    "fileName='Log_2024-07-13_18-48-47.json'\n",
    "# dirName = '../sample'\n",
    "# fileName = 'Log_2021-05-19_18-25-15_SS96_x_7f_f07_EB_panA2_t01.json'\n"
   ]
  },
  {
   "cell_type": "code",
   "execution_count": 4,
   "id": "0a8b5fab",
   "metadata": {},
   "outputs": [
    {
     "name": "stdout",
     "output_type": "stream",
     "text": [
      "correcting for Unity angle convention.\n",
      "No fictrac signal was recorded.\n",
      "Metadata:\n",
      "\n",
      "expid  :  testExp\n",
      "experiment  :  test experiment\n",
      "genotype  :  testGenotype\n",
      "sex  :  NA\n",
      "flyid  :  NA\n",
      "trial  :  trial8-48-47\n",
      "date  :  2024-07-13\n",
      "time  :  18-48-47\n",
      "ballRad  :  0.4699999988079071\n",
      "setFrameRate  :  120\n",
      "notes  :  NA\n",
      "angle_convention  :  right-handed\n"
     ]
    }
   ],
   "source": [
    "uvrTest = lp.constructUnityVRexperiment(dirName, fileName, fictracSubject='Not Integrated', posDfKey = 'attemptedTranslation')\n",
    "#if using FictracSubjectIntegrated, set fictracSubject='Integrated' and posDfKey = 'worldPosition'\n",
    "#posDfKey specifies the string that will be matched to find the chunk in the json that contains position data. For FictracSubjectIntegrated this is expected to be 'worldPosition', while for FictracSubject it is expected to be 'attemptedTranslation'.\n",
    "uvrTest.printMetadata()"
   ]
  },
  {
   "cell_type": "code",
   "execution_count": 14,
   "id": "cf35bb2d",
   "metadata": {},
   "outputs": [
    {
     "data": {
      "text/html": [
       "<div>\n",
       "<style scoped>\n",
       "    .dataframe tbody tr th:only-of-type {\n",
       "        vertical-align: middle;\n",
       "    }\n",
       "\n",
       "    .dataframe tbody tr th {\n",
       "        vertical-align: top;\n",
       "    }\n",
       "\n",
       "    .dataframe thead th {\n",
       "        text-align: right;\n",
       "    }\n",
       "</style>\n",
       "<table border=\"1\" class=\"dataframe\">\n",
       "  <thead>\n",
       "    <tr style=\"text-align: right;\">\n",
       "      <th></th>\n",
       "      <th>frame</th>\n",
       "      <th>time</th>\n",
       "      <th>img</th>\n",
       "      <th>duration</th>\n",
       "    </tr>\n",
       "  </thead>\n",
       "  <tbody>\n",
       "    <tr>\n",
       "      <th>0</th>\n",
       "      <td>2.0</td>\n",
       "      <td>0.02</td>\n",
       "      <td>C:\\Users\\seenivasanp\\Desktop\\HM_gratings_flick...</td>\n",
       "      <td>0.033333</td>\n",
       "    </tr>\n",
       "    <tr>\n",
       "      <th>1</th>\n",
       "      <td>4.0</td>\n",
       "      <td>0.12631</td>\n",
       "      <td>C:\\Users\\seenivasanp\\Desktop\\HM_gratings_flick...</td>\n",
       "      <td>0.033333</td>\n",
       "    </tr>\n",
       "    <tr>\n",
       "      <th>2</th>\n",
       "      <td>6.0</td>\n",
       "      <td>0.228407</td>\n",
       "      <td>C:\\Users\\seenivasanp\\Desktop\\HM_gratings_flick...</td>\n",
       "      <td>0.033333</td>\n",
       "    </tr>\n",
       "    <tr>\n",
       "      <th>3</th>\n",
       "      <td>11.0</td>\n",
       "      <td>0.255296</td>\n",
       "      <td>C:\\Users\\seenivasanp\\Desktop\\HM_gratings_flick...</td>\n",
       "      <td>0.033333</td>\n",
       "    </tr>\n",
       "    <tr>\n",
       "      <th>4</th>\n",
       "      <td>13.0</td>\n",
       "      <td>0.293746</td>\n",
       "      <td>C:\\Users\\seenivasanp\\Desktop\\HM_gratings_flick...</td>\n",
       "      <td>0.033333</td>\n",
       "    </tr>\n",
       "    <tr>\n",
       "      <th>...</th>\n",
       "      <td>...</td>\n",
       "      <td>...</td>\n",
       "      <td>...</td>\n",
       "      <td>...</td>\n",
       "    </tr>\n",
       "    <tr>\n",
       "      <th>8695</th>\n",
       "      <td>34930.0</td>\n",
       "      <td>289.675995</td>\n",
       "      <td>C:\\Users\\seenivasanp\\Desktop\\HM_gratings_flick...</td>\n",
       "      <td>0.033333</td>\n",
       "    </tr>\n",
       "    <tr>\n",
       "      <th>8696</th>\n",
       "      <td>34934.0</td>\n",
       "      <td>289.70932</td>\n",
       "      <td>C:\\Users\\seenivasanp\\Desktop\\HM_gratings_flick...</td>\n",
       "      <td>0.033333</td>\n",
       "    </tr>\n",
       "    <tr>\n",
       "      <th>8697</th>\n",
       "      <td>34938.0</td>\n",
       "      <td>289.742645</td>\n",
       "      <td>C:\\Users\\seenivasanp\\Desktop\\HM_gratings_flick...</td>\n",
       "      <td>0.033333</td>\n",
       "    </tr>\n",
       "    <tr>\n",
       "      <th>8698</th>\n",
       "      <td>34942.0</td>\n",
       "      <td>289.77597</td>\n",
       "      <td>C:\\Users\\seenivasanp\\Desktop\\HM_gratings_flick...</td>\n",
       "      <td>0.033333</td>\n",
       "    </tr>\n",
       "    <tr>\n",
       "      <th>8699</th>\n",
       "      <td>34946.0</td>\n",
       "      <td>289.809296</td>\n",
       "      <td>C:\\Users\\seenivasanp\\Desktop\\HM_gratings_flick...</td>\n",
       "      <td>0.033333</td>\n",
       "    </tr>\n",
       "  </tbody>\n",
       "</table>\n",
       "<p>8700 rows × 4 columns</p>\n",
       "</div>"
      ],
      "text/plain": [
       "        frame        time                                                img  \\\n",
       "0         2.0        0.02  C:\\Users\\seenivasanp\\Desktop\\HM_gratings_flick...   \n",
       "1         4.0     0.12631  C:\\Users\\seenivasanp\\Desktop\\HM_gratings_flick...   \n",
       "2         6.0    0.228407  C:\\Users\\seenivasanp\\Desktop\\HM_gratings_flick...   \n",
       "3        11.0    0.255296  C:\\Users\\seenivasanp\\Desktop\\HM_gratings_flick...   \n",
       "4        13.0    0.293746  C:\\Users\\seenivasanp\\Desktop\\HM_gratings_flick...   \n",
       "...       ...         ...                                                ...   \n",
       "8695  34930.0  289.675995  C:\\Users\\seenivasanp\\Desktop\\HM_gratings_flick...   \n",
       "8696  34934.0   289.70932  C:\\Users\\seenivasanp\\Desktop\\HM_gratings_flick...   \n",
       "8697  34938.0  289.742645  C:\\Users\\seenivasanp\\Desktop\\HM_gratings_flick...   \n",
       "8698  34942.0   289.77597  C:\\Users\\seenivasanp\\Desktop\\HM_gratings_flick...   \n",
       "8699  34946.0  289.809296  C:\\Users\\seenivasanp\\Desktop\\HM_gratings_flick...   \n",
       "\n",
       "      duration  \n",
       "0     0.033333  \n",
       "1     0.033333  \n",
       "2     0.033333  \n",
       "3     0.033333  \n",
       "4     0.033333  \n",
       "...        ...  \n",
       "8695  0.033333  \n",
       "8696  0.033333  \n",
       "8697  0.033333  \n",
       "8698  0.033333  \n",
       "8699  0.033333  \n",
       "\n",
       "[8700 rows x 4 columns]"
      ]
     },
     "execution_count": 14,
     "metadata": {},
     "output_type": "execute_result"
    }
   ],
   "source": [
    "uvrTest.vidDf"
   ]
  },
  {
   "cell_type": "code",
   "execution_count": null,
   "id": "4c6dfaee",
   "metadata": {},
   "outputs": [],
   "source": [
    "uvrTest.saveData"
   ]
  },
  {
   "cell_type": "code",
   "execution_count": 5,
   "id": "a93ed8c2",
   "metadata": {},
   "outputs": [],
   "source": [
    "dat = lp.openUnityLog(dirName, fileName)"
   ]
  },
  {
   "cell_type": "code",
   "execution_count": null,
   "id": "97da51a4",
   "metadata": {},
   "outputs": [],
   "source": [
    "posDf, ftDf, nidDf = lp.timeseriesDfFromLog(dat, computePDtrace=True)"
   ]
  },
  {
   "cell_type": "code",
   "execution_count": null,
   "id": "1600684a",
   "metadata": {},
   "outputs": [],
   "source": [
    "time_diff = np.diff(nidDf['time'])"
   ]
  },
  {
   "cell_type": "code",
   "execution_count": null,
   "id": "90a1a609",
   "metadata": {},
   "outputs": [],
   "source": [
    "plt.plot(time_diff)"
   ]
  },
  {
   "cell_type": "code",
   "execution_count": null,
   "id": "8ef7801d",
   "metadata": {},
   "outputs": [],
   "source": [
    "np.size(time_diff)"
   ]
  },
  {
   "cell_type": "markdown",
   "id": "680f7175",
   "metadata": {},
   "source": [
    "# Trajectory Analysis"
   ]
  },
  {
   "cell_type": "code",
   "execution_count": null,
   "id": "ded888a5",
   "metadata": {},
   "outputs": [
    {
     "data": {
      "image/png": "[encoded data removed]",
      "text/plain": [
       "<Figure size 720x360 with 2 Axes>"
      ]
     },
     "metadata": {
      "needs_background": "light"
     },
     "output_type": "display_data"
    }
   ],
   "source": [
    "#use position function to generate position dataframe and plot trajecotory\n",
    "#rotate_by parameter rotates the trajectory, in this example by 90 degrees\n",
    "#the rotation gets updated in the metadata, \n",
    "#any subsequent rotation will modify the trajectory as well as the metadata\n",
    "posDf = posAnalysis.position(uvrTest, \n",
    "                             derive = True, #derive set to true adds \n",
    "                             #derived parameters like velocity and angle to the dataframe\n",
    "                             rotate_by=90, #in degrees if cylinder worlds have no offset applied: ensures that the darkest part of the world is at 0°\n",
    "                             plot=True \n",
    "                             #pass the following parameters to save the dataframe in a chosen directory\n",
    "                             #,plotsave=False,saveDir=saveDir         \n",
    "                            )"
   ]
  },
  {
   "cell_type": "code",
   "execution_count": 7,
   "id": "492fbf2a",
   "metadata": {},
   "outputs": [],
   "source": [
    "# The metadata is automatically extended:\n",
    "uvrTest.printMetadata()\n",
    "#IMPORTANT: this is because the uvrTest object is updated in place by the position function"
   ]
  },
  {
   "cell_type": "code",
   "execution_count": null,
   "id": "52d95173",
   "metadata": {},
   "outputs": [],
   "source": []
  }
 ],
 "metadata": {
  "kernelspec": {
   "display_name": "unityvr",
   "language": "python",
   "name": "unityvr"
  },
  "language_info": {
   "codemirror_mode": {
    "name": "ipython",
    "version": 3
   },
   "file_extension": ".py",
   "mimetype": "text/x-python",
   "name": "python",
   "nbconvert_exporter": "python",
   "pygments_lexer": "ipython3",
   "version": "3.8.17"
  }
 },
 "nbformat": 4,
 "nbformat_minor": 5
}
